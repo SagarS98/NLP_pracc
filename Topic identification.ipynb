{
 "cells": [
  {
   "cell_type": "code",
   "execution_count": 1,
   "metadata": {},
   "outputs": [],
   "source": [
    "from gensim.corpora.dictionary import Dictionary\n",
    "import nltk\n",
    "from nltk.tokenize import RegexpTokenizer\n",
    "import re\n",
    "from nltk.corpus import stopwords\n",
    "from collections import Counter\n",
    "from nltk.stem import WordNetLemmatizer"
   ]
  },
  {
   "cell_type": "code",
   "execution_count": 2,
   "metadata": {},
   "outputs": [],
   "source": [
    "article = f\"\"\"Artificial Intelligence, or AI, has already received a lot of buzz in recent years, but it continues to be a trend to watch because its effects on how we live, work, and play are only in the early stages. In addition, other branches of AI have developed, including Machine Learning, which we will go into below. AI refers to computer systems built to mimic human intelligence and perform tasks such as recognition of images, speech or patterns, and decision making. AI can do these tasks faster and more accurately than humans.\n",
    "Five out of six Americans use AI services in one form or another every day, including navigation apps, streaming services, smartphone personal assistants, ride-sharing apps, home personal assistants, and smart home devices. In addition to consumer use, AI is used to schedule trains, assess business risk, predict maintenance, and improve energy efficiency, among many other money-saving tasks.\n",
    "AI is one part of what we refer to broadly as automation, and automation is a hot topic because of potential job loss. Experts say automation will eliminate 73 million more jobs by 2030. However, automation is creating jobs as well as eliminating them, especially in the field of AI: Pundits predict that jobs in AI will number 23 million by 2020. Jobs will be created in development, programming, testing, support, and maintenance, to name a few. Artificial Intelligence architect is one such job. Some say it will soon rival data scientists in need of skilled professionals. To learn more about potential jobs in AI, read about building a career in AI, or why you should earn an AI certification.\"\"\""
   ]
  },
  {
   "cell_type": "code",
   "execution_count": 3,
   "metadata": {},
   "outputs": [],
   "source": [
    "tokenizer = RegexpTokenizer(r'\\w+')"
   ]
  },
  {
   "cell_type": "code",
   "execution_count": 4,
   "metadata": {},
   "outputs": [],
   "source": [
    "tokens = tokenizer.tokenize(article)"
   ]
  },
  {
   "cell_type": "code",
   "execution_count": 5,
   "metadata": {},
   "outputs": [],
   "source": [
    "lowercase_tokens = [word.lower() for word in tokens]"
   ]
  },
  {
   "cell_type": "code",
   "execution_count": 6,
   "metadata": {},
   "outputs": [],
   "source": [
    "bow = Counter(lowercase_tokens)"
   ]
  },
  {
   "cell_type": "code",
   "execution_count": 7,
   "metadata": {},
   "outputs": [
    {
     "data": {
      "text/plain": [
       "[('ai', 12),\n",
       " ('in', 11),\n",
       " ('to', 9),\n",
       " ('of', 8),\n",
       " ('and', 8),\n",
       " ('a', 5),\n",
       " ('will', 5),\n",
       " ('is', 5),\n",
       " ('jobs', 5),\n",
       " ('or', 4)]"
      ]
     },
     "execution_count": 7,
     "metadata": {},
     "output_type": "execute_result"
    }
   ],
   "source": [
    "bow.most_common(10)"
   ]
  },
  {
   "cell_type": "code",
   "execution_count": 8,
   "metadata": {},
   "outputs": [],
   "source": [
    "alpha = [t for t in lowercase_tokens if t.isalpha()]"
   ]
  },
  {
   "cell_type": "code",
   "execution_count": 9,
   "metadata": {},
   "outputs": [],
   "source": [
    "stopwords = stopwords.words('english')"
   ]
  },
  {
   "cell_type": "code",
   "execution_count": 10,
   "metadata": {},
   "outputs": [],
   "source": [
    "article_sw = [t for t in alpha if not t in stopwords]"
   ]
  },
  {
   "cell_type": "code",
   "execution_count": 11,
   "metadata": {},
   "outputs": [
    {
     "data": {
      "text/plain": [
       "['artificial', 'intelligence', 'ai', 'already', 'received']"
      ]
     },
     "execution_count": 11,
     "metadata": {},
     "output_type": "execute_result"
    }
   ],
   "source": [
    "article_sw[:5]"
   ]
  },
  {
   "cell_type": "code",
   "execution_count": 12,
   "metadata": {},
   "outputs": [],
   "source": [
    "lemmatizer = WordNetLemmatizer()"
   ]
  },
  {
   "cell_type": "code",
   "execution_count": 13,
   "metadata": {},
   "outputs": [],
   "source": [
    "lemd_tokens = [lemmatizer.lemmatize(t) for t in article_sw]"
   ]
  },
  {
   "cell_type": "code",
   "execution_count": 14,
   "metadata": {},
   "outputs": [],
   "source": [
    "bag_of_words = Counter(lemd_tokens)"
   ]
  },
  {
   "cell_type": "code",
   "execution_count": 15,
   "metadata": {},
   "outputs": [
    {
     "data": {
      "text/plain": [
       "[('ai', 12), ('job', 7), ('automation', 4), ('intelligence', 3), ('task', 3)]"
      ]
     },
     "execution_count": 15,
     "metadata": {},
     "output_type": "execute_result"
    }
   ],
   "source": [
    "bag_of_words.most_common(5)"
   ]
  },
  {
   "cell_type": "markdown",
   "metadata": {},
   "source": [
    "Further the same can be done using the tfidfModel or using LDA alongside gensim"
   ]
  }
 ],
 "metadata": {
  "kernelspec": {
   "display_name": "Python 3",
   "language": "python",
   "name": "python3"
  },
  "language_info": {
   "codemirror_mode": {
    "name": "ipython",
    "version": 3
   },
   "file_extension": ".py",
   "mimetype": "text/x-python",
   "name": "python",
   "nbconvert_exporter": "python",
   "pygments_lexer": "ipython3",
   "version": "3.7.6"
  }
 },
 "nbformat": 4,
 "nbformat_minor": 4
}
